{
  "nbformat": 4,
  "nbformat_minor": 0,
  "metadata": {
    "colab": {
      "provenance": [],
      "authorship_tag": "ABX9TyNp3AXli4oukfISY3oPQNPC",
      "include_colab_link": true
    },
    "kernelspec": {
      "name": "python3",
      "display_name": "Python 3"
    },
    "language_info": {
      "name": "python"
    }
  },
  "cells": [
    {
      "cell_type": "markdown",
      "metadata": {
        "id": "view-in-github",
        "colab_type": "text"
      },
      "source": [
        "<a href=\"https://colab.research.google.com/github/AbhilashSatheesh/Log-Analysis-Script/blob/main/log_analysis_script.ipynb\" target=\"_parent\"><img src=\"https://colab.research.google.com/assets/colab-badge.svg\" alt=\"Open In Colab\"/></a>"
      ]
    },
    {
      "cell_type": "code",
      "execution_count": 7,
      "metadata": {
        "colab": {
          "base_uri": "https://localhost:8080/"
        },
        "id": "_Ue5RwpKFBtF",
        "outputId": "361fbf32-0bf5-40e5-b5eb-ac55f86d20e3"
      },
      "outputs": [
        {
          "output_type": "stream",
          "name": "stdout",
          "text": [
            "\n",
            "--- Log Analysis Results ---\n",
            "IP Address           Request Count\n",
            "203.0.113.5          8\n",
            "198.51.100.23        8\n",
            "192.168.1.1          7\n",
            "10.0.0.2             6\n",
            "192.168.1.100        5\n",
            "\n",
            "Most Frequently Accessed Endpoint:\n",
            "/login (Accessed 13 times)\n",
            "\n",
            "Suspicious Activity Detected:\n",
            "IP Address           Failed Login Attempts\n",
            "203.0.113.5          8\n",
            "\n",
            "Results saved to log_analysis_results.csv\n"
          ]
        }
      ],
      "source": [
        "import re\n",
        "import csv\n",
        "from collections import defaultdict\n",
        "\n",
        "# File paths\n",
        "log_file = \"sample.log\"\n",
        "output_csv = \"log_analysis_results.csv\"\n",
        "\n",
        "# Threshold for detecting suspicious activity\n",
        "FAILED_LOGIN_THRESHOLD = 7\n",
        "\n",
        "# Parse the log file and extract information\n",
        "def parse_log_file(file_path):\n",
        "    ip_requests = defaultdict(int)\n",
        "    endpoint_requests = defaultdict(int)\n",
        "    failed_logins = defaultdict(int)\n",
        "\n",
        "    with open(file_path, \"r\") as file:\n",
        "        for line in file:\n",
        "            # Extract IP address\n",
        "            ip_match = re.search(r'^(\\d+\\.\\d+\\.\\d+\\.\\d+)', line)\n",
        "            if ip_match:\n",
        "                ip_address = ip_match.group(1)\n",
        "                ip_requests[ip_address] += 1\n",
        "\n",
        "            # Extract endpoint\n",
        "            endpoint_match = re.search(r'\"(?:GET|POST) (.*?) HTTP', line)\n",
        "            if endpoint_match:\n",
        "                endpoint = endpoint_match.group(1)\n",
        "                endpoint_requests[endpoint] += 1\n",
        "\n",
        "            # Detect failed login attempts\n",
        "            if '401' in line or \"Invalid credentials\" in line:\n",
        "                if ip_match:\n",
        "                    failed_logins[ip_address] += 1\n",
        "\n",
        "    return ip_requests, endpoint_requests, failed_logins\n",
        "\n",
        "# Sort and display requests per IP address\n",
        "def count_requests_per_ip(ip_requests):\n",
        "    print(\"IP Address           Request Count\")\n",
        "    sorted_ips = sorted(ip_requests.items(), key=lambda x: x[1], reverse=True)\n",
        "    for ip, count in sorted_ips:\n",
        "        print(f\"{ip:<20} {count}\")\n",
        "    return sorted_ips\n",
        "\n",
        "# Identify and display the most frequently accessed endpoint\n",
        "def most_frequent_endpoint(endpoint_requests):\n",
        "    most_accessed = max(endpoint_requests.items(), key=lambda x: x[1])\n",
        "    endpoint, count = most_accessed\n",
        "    print(\"\\nMost Frequently Accessed Endpoint:\")\n",
        "    print(f\"{endpoint} (Accessed {count} times)\")\n",
        "    return endpoint, count\n",
        "\n",
        "# Detect and display suspicious IPs with failed login attempts\n",
        "def detect_suspicious_activity(failed_logins):\n",
        "    print(\"\\nSuspicious Activity Detected:\")\n",
        "    print(\"IP Address           Failed Login Attempts\")\n",
        "    flagged_ips = [\n",
        "        (ip, count) for ip, count in failed_logins.items() if count >= FAILED_LOGIN_THRESHOLD\n",
        "    ]\n",
        "    for ip, count in flagged_ips:\n",
        "        print(f\"{ip:<20} {count}\")\n",
        "    return flagged_ips\n",
        "\n",
        "# Save the results to a CSV file\n",
        "def save_results_to_csv(ip_requests, endpoint_info, flagged_ips):\n",
        "    with open(output_csv, \"w\", newline='') as csvfile:\n",
        "        writer = csv.writer(csvfile)\n",
        "\n",
        "        # Requests per IP\n",
        "        writer.writerow([\"Requests per IP\"])\n",
        "        writer.writerow([\"IP Address\", \"Request Count\"])\n",
        "        writer.writerows(ip_requests)\n",
        "        writer.writerow([])\n",
        "\n",
        "        # Most Accessed Endpoint\n",
        "        writer.writerow([\"Most Accessed Endpoint\"])\n",
        "        writer.writerow([\"Endpoint\", \"Access Count\"])\n",
        "        writer.writerow(endpoint_info)\n",
        "        writer.writerow([])\n",
        "\n",
        "        # Suspicious Activity\n",
        "        writer.writerow([\"Suspicious Activity\"])\n",
        "        writer.writerow([\"IP Address\", \"Failed Login Count\"])\n",
        "        writer.writerows(flagged_ips)\n",
        "\n",
        "\n",
        "def main():\n",
        "    ip_requests, endpoint_requests, failed_logins = parse_log_file(log_file)\n",
        "\n",
        "    print(\"\\n--- Log Analysis Results ---\")\n",
        "\n",
        "    # Count Requests per IP\n",
        "    sorted_ip_requests = count_requests_per_ip(ip_requests)\n",
        "\n",
        "    # Identify the Most Frequently Accessed Endpoint\n",
        "    endpoint_info = most_frequent_endpoint(endpoint_requests)\n",
        "\n",
        "    # Detect Suspicious Activity\n",
        "    flagged_ips = detect_suspicious_activity(failed_logins)\n",
        "\n",
        "    # Save results to CSV\n",
        "    save_results_to_csv(sorted_ip_requests, endpoint_info, flagged_ips)\n",
        "\n",
        "    print(f\"\\nResults saved to {output_csv}\")\n",
        "\n",
        "\n",
        "if __name__ == \"__main__\":\n",
        "    main()\n"
      ]
    },
    {
      "cell_type": "code",
      "source": [],
      "metadata": {
        "id": "Yphyxt-qF5F4"
      },
      "execution_count": null,
      "outputs": []
    }
  ]
}